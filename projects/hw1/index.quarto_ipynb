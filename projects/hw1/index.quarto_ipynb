{
  "cells": [
    {
      "cell_type": "markdown",
      "metadata": {},
      "source": [
        "---\n",
        "title: Homework 1\n",
        "author: Mario Nonog\n",
        "---\n",
        "\n",
        "# Question 1\n",
        "\n",
        "Prof says make a chart."
      ],
      "id": "06930c74"
    },
    {
      "cell_type": "code",
      "metadata": {},
      "source": [
        "import matplotlib.pyplot as plt\n",
        "\n",
        "data = [10, 20, 20, 20, 30, 30, 40, 50, 50, 60, 70, 80, 90, 100]\n",
        "\n",
        "plt.hist(data, bins=10, color='skyblue', edgecolor='black')\n",
        "plt.title(\"Histogram Example\")\n",
        "plt.xlabel(\"Value\")\n",
        "plt.ylabel(\"Frequency\")\n",
        "plt.show()"
      ],
      "id": "38293d2c",
      "execution_count": null,
      "outputs": []
    }
  ],
  "metadata": {
    "kernelspec": {
      "display_name": "Python 3",
      "language": "python",
      "name": "python3"
    }
  },
  "nbformat": 4,
  "nbformat_minor": 5
}